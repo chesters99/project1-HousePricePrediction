{
 "cells": [
  {
   "cell_type": "markdown",
   "metadata": {},
   "source": [
    "## Create files as per her split"
   ]
  },
  {
   "cell_type": "code",
   "execution_count": 1,
   "metadata": {},
   "outputs": [],
   "source": [
    "import pandas as pd\n",
    "import numpy as np\n",
    "ames = pd.read_csv('Ames_data.csv')\n",
    "test_ids = np.arange(0, ames.shape[0], step=3)\n",
    "test_temp  = ames.iloc[test_ids, ames.columns!='Sale_Price']\n",
    "train_temp = ames.drop(test_ids, axis=0)\n",
    "\n",
    "# create test and train text files\n",
    "train_temp.to_csv('train.csv', index=False)\n",
    "test_temp.to_csv('test.csv', index=False)"
   ]
  },
  {
   "cell_type": "code",
   "execution_count": 2,
   "metadata": {},
   "outputs": [
    {
     "name": "stdout",
     "output_type": "stream",
     "text": [
      "\n",
      "Checking mysubmission3 file, RMSE= 0.12219\n"
     ]
    }
   ],
   "source": [
    "def rmse(predictions, actuals):\n",
    "    return np.sqrt(np.mean( (predictions - actuals)**2 ))\n",
    "# create test_y for benchmarking\n",
    "y_test = pd.merge(test_temp[['PID']], ames[['PID','Sale_Price']], on='PID').Sale_Price\n",
    "# Check mysubmission3 file is saved correctly\n",
    "temp = pd.read_csv('mysubmission3.txt')\n",
    "print('\\nChecking mysubmission3 file, RMSE=', round(rmse(np.log(temp.Sale_Price), np.log(y_test)),5) )"
   ]
  },
  {
   "cell_type": "markdown",
   "metadata": {},
   "source": [
    "## Main Code"
   ]
  },
  {
   "cell_type": "code",
   "execution_count": 45,
   "metadata": {},
   "outputs": [],
   "source": [
    "import pandas as pd\n",
    "import numpy as np\n",
    "from scipy.stats import skew\n",
    "from sklearn.linear_model import Lasso # used as benchmark only\n",
    "pd.set_option(\"display.max_columns\",1000)\n",
    "\n",
    "def rmse(predictions, actuals):\n",
    "    return np.sqrt(np.mean( (predictions - actuals)**2 ))\n",
    "\n",
    "def scale(data, mean_, std_, standardize=True):\n",
    "    if not standardize:\n",
    "        return data\n",
    "    data = (data-mean_) / std_\n",
    "    return data\n",
    "\n",
    "def one_step_lasso(r, x, lam): # translated to python from code per template\n",
    "    xx = np.sum(x**2) \n",
    "    xr = np.sum(r*x)\n",
    "    b = (np.abs(xr) - lam/2) / xx \n",
    "    b = np.sign(xr) * (b if b>0 else 0)\n",
    "    return(b)\n",
    "\n",
    "def mylasso(X, y, lam, n_iter=50, standardize=True): # translated to python from code template\n",
    "    # X: n-by-p design matrix without the intercept\n",
    "    # y: n-by-1 response vector\n",
    "    # lam: lambda value\n",
    "    # n.iter: number of iterations\n",
    "    # standardize: if True, center and scale X and y. \n",
    "    \n",
    "    # Initial values for residual and coefficient vector b\n",
    "    p = X.shape[1]\n",
    "    b = np.zeros(p)\n",
    "    r = y\n",
    "\n",
    "    for _ in range(n_iter):\n",
    "        for j in range(p):\n",
    "            # 1) Update the residual vector to be the one\n",
    "            # in blue on p37 of [lec_W3_VariableSelection.pdf]. \n",
    "            r = r + X[:,j] * b[j]    \n",
    "            \n",
    "            # 2) Apply one_step_lasso to update beta_j\n",
    "            b[j] = one_step_lasso(r, X[:, j], lam)\n",
    "            \n",
    "            # 3) Update the current residual vector\n",
    "            r = r - X[:,j] * b[j] \n",
    "            \n",
    "    # scale back b and add intercept b0      \n",
    "    b = b / std_x\n",
    "    b0 = mean_y - np.dot(mean_x, b)\n",
    "    return b0, b"
   ]
  },
  {
   "cell_type": "code",
   "execution_count": 46,
   "metadata": {},
   "outputs": [
    {
     "name": "stdout",
     "output_type": "stream",
     "text": [
      "RMSE logPrice  SumSqBetas   Lambda\n",
      "0.12219        3.3           10\n",
      "(scikitlearn LASSO benchmark RMSE= 0.124018 )\n",
      "Created mysubmission3.txt, rows= 977\n"
     ]
    }
   ],
   "source": [
    "# Read train csv file, drop unwanted columns, fix NA's in Garage_Yr_Blt column, transform sale_price\n",
    "train = pd.read_csv('train.csv') \n",
    "y_train = np.log(train.Sale_Price).values\n",
    "\n",
    "train = train.drop(['Sale_Price','PID','Utilities', 'Land_Slope', 'Pool_QC', 'Misc_Feature', 'Low_Qual_Fin_SF',\n",
    "                    'Pool_Area', 'Misc_Val', 'Longitude', 'Latitude'], axis=1)\n",
    "train.loc[train.Garage_Yr_Blt.isnull(),\"Garage_Yr_Blt\"] = 0\n",
    "\n",
    "limit = 2\n",
    "# consolidate rare values into one dummy value\n",
    "for col in train.select_dtypes(include=[\"object\"]).columns:\n",
    "    variables = train[col].value_counts()\n",
    "    for i, v in zip(variables.index, variables.values):\n",
    "        if int(v) < limit:\n",
    "            train.loc[train[col]==i, col] = 'xxxx'\n",
    "\n",
    "# train = add_derived(train)\n",
    "train = pd.get_dummies(train) # convert categoricals to dummy variables\n",
    "\n",
    "train = train.reindex(sorted(train.columns), axis=1) # sort columns to be in same sequence at train\n",
    "\n",
    "# log transform all variables with skew > 2 to improve LASSO performance\n",
    "numerics = train.select_dtypes(exclude=[\"object\"])\n",
    "skewness = numerics.apply(lambda x: skew(x))\n",
    "skewed_cols = skewness[abs(skewness) >= 5].index \n",
    "skewed_cols = skewed_cols[skewed_cols!='Sale_Price']\n",
    "train.loc[:, skewed_cols] = np.log1p(train[skewed_cols])\n",
    "\n",
    "X_train = train.values\n",
    "\n",
    "testO = pd.read_csv('test.csv') \n",
    "test = testO.drop(['PID','Utilities', 'Land_Slope', 'Pool_QC', 'Misc_Feature', 'Low_Qual_Fin_SF', 'Pool_Area',\n",
    "                  'Misc_Val', 'Longitude', 'Latitude'], axis=1)\n",
    "test.loc[test.Garage_Yr_Blt.isnull(),\"Garage_Yr_Blt\"] = 0\n",
    "    \n",
    "# consolidate rare values into one dummy value\n",
    "for col in test.select_dtypes(include=[\"object\"]).columns:\n",
    "    variables = test[col].value_counts()\n",
    "    for i, v in zip(variables.index, variables.values):\n",
    "        if int(v) < limit:\n",
    "            test.loc[test[col]==i, col] = 'xxxx'\n",
    "            \n",
    "test = pd.get_dummies(test) # convert categoricals to dummy variables\n",
    "\n",
    "all_columns = train.columns.union(test.columns) # add columns to test that are in train but not test\n",
    "test = test.reindex(columns=all_columns).fillna(0)\n",
    "test = test.reindex(sorted(train.columns), axis=1) # sort columns to be in same sequence at train\n",
    "\n",
    "test.loc[:, skewed_cols] = np.log1p(test[skewed_cols])\n",
    "X_test = test.values\n",
    "\n",
    "# calculate means and std and then scale X and center Y if standardize is True\n",
    "mean_x = X_train.mean(axis=0)\n",
    "std_x  = X_train.std(axis=0)\n",
    "X = scale(X_train, mean_x, std_x, True)\n",
    "\n",
    "mean_y = y_train.mean()\n",
    "y = scale(y_train, mean_y, 1, True)\n",
    "\n",
    "# loop through lambda values to find the best then comment out and just run the best\n",
    "print('RMSE logPrice  SumSqBetas   Lambda')\n",
    "lambdas = [1000, 100, 10, 1, 0.1, 0.001]\n",
    "lambdas = [10,]\n",
    "for lam in lambdas:\n",
    "    b0, b = mylasso(X, y, lam, n_iter=100, standardize=True)\n",
    "    predsL = b0 + np.dot(X_test, b) \n",
    "    print('{:.5f}        {:.1f}           {}'.format(rmse(predsL, np.log(y_test)), (b**2).sum(), lam))\n",
    "\n",
    "# print benchmark as comparison\n",
    "model = Lasso(alpha=0.0002, max_iter=10000)\n",
    "_ = model.fit(X_train, y_train)\n",
    "LassoMpreds = model.predict(X_test)\n",
    "print('(scikitlearn LASSO benchmark RMSE=', round( rmse(np.log(y_test), LassoMpreds),6 ),')')\n",
    "\n",
    "# Save predictions to mysubmisison3.txt file\n",
    "b0, b = mylasso(X, y, lam=10, n_iter=100, standardize=True)\n",
    "predsL = b0 + np.dot(X_test, b) \n",
    "LassoManual_df = pd.DataFrame({'PID': testO.PID, 'Sale_Price': np.exp(predsL).round(1)})\n",
    "LassoManual_df.to_csv('mysubmission3.txt', index=False)\n",
    "print('Created mysubmission3.txt, rows=', LassoManual_df.shape[0])\n"
   ]
  },
  {
   "cell_type": "code",
   "execution_count": null,
   "metadata": {},
   "outputs": [],
   "source": []
  },
  {
   "cell_type": "code",
   "execution_count": null,
   "metadata": {},
   "outputs": [],
   "source": []
  }
 ],
 "metadata": {
  "kernelspec": {
   "display_name": "Python 3",
   "language": "python",
   "name": "python3"
  },
  "language_info": {
   "codemirror_mode": {
    "name": "ipython",
    "version": 3
   },
   "file_extension": ".py",
   "mimetype": "text/x-python",
   "name": "python",
   "nbconvert_exporter": "python",
   "pygments_lexer": "ipython3",
   "version": "3.6.6"
  }
 },
 "nbformat": 4,
 "nbformat_minor": 2
}
